{
 "cells": [
  {
   "cell_type": "code",
   "execution_count": 5,
   "metadata": {},
   "outputs": [
    {
     "name": "stdout",
     "output_type": "stream",
     "text": [
      "Files saved successfully!\n"
     ]
    }
   ],
   "source": [
    "import pandas as pd\n",
    "from sklearn.model_selection import train_test_split\n",
    "\n",
    "# Read the CSV file\n",
    "file_path = \"./data/heloc_dataaset.csv\"  # Change this to the path of your input CSV file\n",
    "dataset_name = \"heloc\"\n",
    "data = pd.read_csv(file_path)\n",
    "\n",
    "# List of random states\n",
    "random_states = [42, 52, 62, 72, 82]\n",
    "\n",
    "# Split the data into features and labels\n",
    "X = data.iloc[:, 1:-1]\n",
    "y = data.iloc[:, -1]\n",
    "\n",
    "# Perform train-test split for each random state and save the results in CSV files\n",
    "for state in random_states:\n",
    "    X_train, X_test, y_train, y_test = train_test_split(X, y, test_size=0.3, random_state=state)\n",
    "    \n",
    "    train_data = pd.concat([X_train, y_train], axis=1)\n",
    "    test_data = pd.concat([X_test, y_test], axis=1)\n",
    "    \n",
    "    train_data.to_csv(f\"./data/{dataset_name}/original_{dataset_name}_train_{state}.csv\", index=False)\n",
    "    test_data.to_csv(f\"./data/{dataset_name}/original_{dataset_name}_test_{state}.csv\", index=False)\n",
    "\n",
    "print(\"Files saved successfully!\")\n"
   ]
  }
 ],
 "metadata": {
  "kernelspec": {
   "display_name": "sdv_dev_env",
   "language": "python",
   "name": "python3"
  },
  "language_info": {
   "codemirror_mode": {
    "name": "ipython",
    "version": 3
   },
   "file_extension": ".py",
   "mimetype": "text/x-python",
   "name": "python",
   "nbconvert_exporter": "python",
   "pygments_lexer": "ipython3",
   "version": "3.9.18"
  }
 },
 "nbformat": 4,
 "nbformat_minor": 2
}
